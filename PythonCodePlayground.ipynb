{
  "nbformat": 4,
  "nbformat_minor": 0,
  "metadata": {
    "colab": {
      "provenance": [],
      "authorship_tag": "ABX9TyPQkZROBIOvZ/RodCGyNs0+",
      "include_colab_link": true
    },
    "kernelspec": {
      "name": "python3",
      "display_name": "Python 3"
    },
    "language_info": {
      "name": "python"
    }
  },
  "cells": [
    {
      "cell_type": "markdown",
      "metadata": {
        "id": "view-in-github",
        "colab_type": "text"
      },
      "source": [
        "<a href=\"https://colab.research.google.com/github/moukouel/Notebooks/blob/main/PythonCodePlayground.ipynb\" target=\"_parent\"><img src=\"https://colab.research.google.com/assets/colab-badge.svg\" alt=\"Open In Colab\"/></a>"
      ]
    },
    {
      "cell_type": "markdown",
      "source": [
        "# Test Python Code\n",
        "\n",
        "\n",
        "> The built-in zip function in Python is used to aggregate elements from two or more iterables (such as lists, tuples, or strings) and returns an iterator of tuples. Each tuple contains the elements from the corresponding position (index) of each iterable. If the iterables are of unequal length, zip stops when the shortest iterable is exhausted.\n",
        "\n",
        "**Applications**\n",
        "1. Parallel Iteration: Use zip to iterate through two or more sequences in\n",
        "parallel.\n",
        "\n",
        "2. Data Aggregation: Combine related data stored in separate lists into a single structure.\n",
        "\n",
        "3. Matrix Transposition: zip can be used to transpose a matrix (i.e., convert rows to columns).\n",
        "\n",
        "```\n",
        "zip(iterable1, iterable2, ..., iterableN)\n",
        "\n",
        "```\n",
        "\n",
        "\n"
      ],
      "metadata": {
        "id": "3BpFqn-F-Mte"
      }
    },
    {
      "cell_type": "code",
      "execution_count": 1,
      "metadata": {
        "colab": {
          "base_uri": "https://localhost:8080/"
        },
        "id": "_holGjzM-Ee5",
        "outputId": "04fa3df8-65d8-4c2e-873a-a697510782f3"
      },
      "outputs": [
        {
          "output_type": "stream",
          "name": "stdout",
          "text": [
            "[('Alice', 25), ('Bob', 30), ('Charlie', 35)]\n"
          ]
        }
      ],
      "source": [
        "names = ['Alice', 'Bob', 'Charlie']\n",
        "ages = [25, 30, 35]\n",
        "\n",
        "# Using zip to combine the lists\n",
        "combined = zip(names, ages)\n",
        "\n",
        "# Converting the iterator to a list of tuples for display\n",
        "print(list(combined))\n",
        "# Output: [('Alice', 25), ('Bob', 30), ('Charlie', 35)]\n"
      ]
    },
    {
      "cell_type": "code",
      "source": [
        "colors = ['red', 'green', 'blue']\n",
        "\n",
        "# Iterate over all three lists concurrently\n",
        "for name, age, color in zip(names, ages, colors):\n",
        "    print(f\"{name} is {age} years old and likes {color}.\")\n",
        "\n",
        "# Output:\n",
        "# Alice is 25 years old and likes red.\n",
        "# Bob is 30 years old and likes green.\n",
        "# Charlie is 35 years old and likes blue.\n"
      ],
      "metadata": {
        "colab": {
          "base_uri": "https://localhost:8080/"
        },
        "id": "xB5AYOB0_W5D",
        "outputId": "50749751-116f-4ca8-e270-572d778a3a4c"
      },
      "execution_count": 2,
      "outputs": [
        {
          "output_type": "stream",
          "name": "stdout",
          "text": [
            "Alice is 25 years old and likes red.\n",
            "Bob is 30 years old and likes green.\n",
            "Charlie is 35 years old and likes blue.\n"
          ]
        }
      ]
    },
    {
      "cell_type": "code",
      "source": [
        "pairs = [('Alice', 25), ('Bob', 30), ('Charlie', 35)]\n",
        "names, ages = zip(*pairs)\n",
        "\n",
        "print(names)  # Output: ('Alice', 'Bob', 'Charlie')\n",
        "print(ages)   # Output: (25, 30, 35)\n"
      ],
      "metadata": {
        "colab": {
          "base_uri": "https://localhost:8080/"
        },
        "id": "Hue2BRB5_mz1",
        "outputId": "8998eb13-7a3f-42eb-d99b-8690eff50fac"
      },
      "execution_count": 3,
      "outputs": [
        {
          "output_type": "stream",
          "name": "stdout",
          "text": [
            "('Alice', 'Bob', 'Charlie')\n",
            "(25, 30, 35)\n"
          ]
        }
      ]
    },
    {
      "cell_type": "markdown",
      "source": [
        "**List comprehensions** in Python provide a concise and expressive way to create new lists by iterating over an iterable and optionally including conditional logic—all in one compact expression. They can replace loops and the use of the append method, making your code more readable and idiomatic.\n",
        "\n",
        "```\n",
        "[expression for item in iterable if condition]\n",
        "\n",
        "```\n",
        "\n",
        "\n",
        "\n",
        "* expression: The value or transformation you want to apply to each item.\n",
        "\n",
        "* for item in iterable: Iterates over each element in the iterable (like a list, tuple, or range).\n",
        "\n",
        "* if condition (optional): Filters the items—it only includes the item in the resulting list if the condition evaluates to True."
      ],
      "metadata": {
        "id": "KlGAzRLoCDqF"
      }
    },
    {
      "cell_type": "code",
      "source": [
        "squares = [x * x for x in range(10)]\n",
        "print(squares)  # Output: [0, 1, 4, 9, 16, 25, 36, 49, 64, 81]"
      ],
      "metadata": {
        "colab": {
          "base_uri": "https://localhost:8080/"
        },
        "id": "cPp7auVCCVxE",
        "outputId": "de5c2982-1e7e-44d2-b53e-8ef554246ead"
      },
      "execution_count": 4,
      "outputs": [
        {
          "output_type": "stream",
          "name": "stdout",
          "text": [
            "[0, 1, 4, 9, 16, 25, 36, 49, 64, 81]\n"
          ]
        }
      ]
    },
    {
      "cell_type": "code",
      "source": [
        "numbers = range(20)\n",
        "evens = [x for x in numbers if x % 2 == 0]\n",
        "print(evens)  # Output: [0, 2, 4, 6, 8, 10, 12, 14, 16, 18]\n"
      ],
      "metadata": {
        "colab": {
          "base_uri": "https://localhost:8080/"
        },
        "id": "VcHxcPHoCfTv",
        "outputId": "c2d251d4-a5ba-4207-96ff-a9d59d6b18e6"
      },
      "execution_count": 5,
      "outputs": [
        {
          "output_type": "stream",
          "name": "stdout",
          "text": [
            "[0, 2, 4, 6, 8, 10, 12, 14, 16, 18]\n"
          ]
        }
      ]
    },
    {
      "cell_type": "code",
      "source": [
        "fruits = [\"apple\", \"banana\", \"cherry\"]\n",
        "upper_fruits = [fruit.upper() for fruit in fruits]\n",
        "print(upper_fruits)  # Output: ['APPLE', 'BANANA', 'CHERRY']\n"
      ],
      "metadata": {
        "colab": {
          "base_uri": "https://localhost:8080/"
        },
        "id": "GcHqfL9RCkFB",
        "outputId": "9f559c1d-929a-4cd3-abf3-5da39a313224"
      },
      "execution_count": 6,
      "outputs": [
        {
          "output_type": "stream",
          "name": "stdout",
          "text": [
            "['APPLE', 'BANANA', 'CHERRY']\n"
          ]
        }
      ]
    },
    {
      "cell_type": "code",
      "source": [
        "matrix = [[1, 2, 3], [4, 5, 6], [7, 8, 9]]\n",
        "flat = [num for row in matrix for num in row]\n",
        "print(flat)  # Output: [1, 2, 3, 4, 5, 6, 7, 8, 9]\n"
      ],
      "metadata": {
        "colab": {
          "base_uri": "https://localhost:8080/"
        },
        "id": "WeLvWJWuCrPr",
        "outputId": "7e53145e-b090-4a0f-e107-3bda1cca830a"
      },
      "execution_count": 7,
      "outputs": [
        {
          "output_type": "stream",
          "name": "stdout",
          "text": [
            "[1, 2, 3, 4, 5, 6, 7, 8, 9]\n"
          ]
        }
      ]
    },
    {
      "cell_type": "markdown",
      "source": [
        "** Dictionary comprehensions ** in Python provide a concise and efficient way to create dictionaries using a syntax similar to list comprehensions. They allow you to generate a new dictionary by transforming or filtering items from an iterable or another dictionary in a single, compact expression.\n",
        "\n",
        "\n",
        "```\n",
        "# {key_expression: value_expression for item in iterable if condition}\n",
        "```\n",
        "\n",
        "* key_expression: Expression defining the key.\n",
        "\n",
        "* value_expression: Expression defining the value.\n",
        "\n",
        "* for item in iterable: Iterates over an iterable (like a list, tuple, or another dictionary).\n",
        "\n",
        "* if condition (optional): Filters the items, including only those items for which the condition evaluates to True."
      ],
      "metadata": {
        "id": "YMyhQfmpDaVn"
      }
    },
    {
      "cell_type": "code",
      "source": [
        "squares = {x: x * x for x in range(6)}\n",
        "print(squares)\n",
        "# Output: {0: 0, 1: 1, 2: 4, 3: 9, 4: 16, 5: 25}\n"
      ],
      "metadata": {
        "colab": {
          "base_uri": "https://localhost:8080/"
        },
        "id": "sSgUFjeMEMrh",
        "outputId": "6ff9ca13-2c22-4b55-ca4e-293e82b5c7b8"
      },
      "execution_count": 8,
      "outputs": [
        {
          "output_type": "stream",
          "name": "stdout",
          "text": [
            "{0: 0, 1: 1, 2: 4, 3: 9, 4: 16, 5: 25}\n"
          ]
        }
      ]
    },
    {
      "cell_type": "code",
      "source": [
        "numbers = range(10)\n",
        "even_squares = {x: x * x for x in numbers if x % 2 == 0}\n",
        "print(even_squares)\n",
        "# Output: {0: 0, 2: 4, 4: 16, 6: 36, 8: 64}\n"
      ],
      "metadata": {
        "colab": {
          "base_uri": "https://localhost:8080/"
        },
        "id": "tSe3piJCEWKy",
        "outputId": "a8966639-d53a-45fb-9993-fa5c6f197ae9"
      },
      "execution_count": 9,
      "outputs": [
        {
          "output_type": "stream",
          "name": "stdout",
          "text": [
            "{0: 0, 2: 4, 4: 16, 6: 36, 8: 64}\n"
          ]
        }
      ]
    },
    {
      "cell_type": "code",
      "source": [
        "original = {'a': 1, 'b': 2, 'c': 3}\n",
        "swapped = {value: key for key, value in original.items()}\n",
        "print(swapped)\n",
        "# Output: {1: 'a', 2: 'b', 3: 'c'}\n"
      ],
      "metadata": {
        "colab": {
          "base_uri": "https://localhost:8080/"
        },
        "id": "3aPzzd7dEluU",
        "outputId": "10c93550-eb34-4a18-abb4-e7a6f4048ae7"
      },
      "execution_count": 10,
      "outputs": [
        {
          "output_type": "stream",
          "name": "stdout",
          "text": [
            "{1: 'a', 2: 'b', 3: 'c'}\n"
          ]
        }
      ]
    },
    {
      "cell_type": "code",
      "source": [
        "original = {'a': 2, 'b': 3, 'c': 4}\n",
        "transformed = {key.upper(): value * value for key, value in original.items()}\n",
        "print(transformed)\n",
        "# Output: {'A': 4, 'B': 9, 'C': 16}\n"
      ],
      "metadata": {
        "colab": {
          "base_uri": "https://localhost:8080/"
        },
        "id": "NwzXQhkmEo90",
        "outputId": "2cc2c4f7-5f52-4c17-ebff-0aaae17eac9c"
      },
      "execution_count": 11,
      "outputs": [
        {
          "output_type": "stream",
          "name": "stdout",
          "text": [
            "{'A': 4, 'B': 9, 'C': 16}\n"
          ]
        }
      ]
    },
    {
      "cell_type": "markdown",
      "source": [
        "**Functions**\n",
        "\n",
        "\n",
        "\n",
        "> The map function in Python is a built-in function that applies a given function to each item of an iterable (such as a list, tuple, or string) and returns an iterator that produces the transformed elements. It's a powerful tool for concise and functional programming, particularly useful for applying a transformation across a sequence of elements.\n",
        "\n",
        "\n",
        "\n",
        "```\n",
        "# map(function, iterable, ...)\n",
        "```\n",
        "* function: A function that is applied to every item in the iterable. This can be a user-defined function, a lambda function, or a built-in function.\n",
        "\n",
        "* iterable: An iterable (like a list, tuple, or string) whose items will be processed.\n",
        "\n",
        "* Returns: An iterator that contains the transformed items.\n",
        "\n"
      ],
      "metadata": {
        "id": "ec5ihoSGFDrK"
      }
    },
    {
      "cell_type": "markdown",
      "source": [],
      "metadata": {
        "id": "NqR5YNQWNz2i"
      }
    },
    {
      "cell_type": "code",
      "source": [
        "# Example: Doubling each number in a list\n",
        "numbers = [1, 2, 3, 4, 5]\n",
        "doubled = map(lambda x: x * 2, numbers)\n",
        "print(list(doubled))  # Output: [2, 4, 6, 8, 10]\n"
      ],
      "metadata": {
        "colab": {
          "base_uri": "https://localhost:8080/"
        },
        "id": "If7ybof1FJXx",
        "outputId": "33b7ff92-5164-4bdd-a467-1cb4adefbee7"
      },
      "execution_count": 12,
      "outputs": [
        {
          "output_type": "stream",
          "name": "stdout",
          "text": [
            "[2, 4, 6, 8, 10]\n"
          ]
        }
      ]
    },
    {
      "cell_type": "code",
      "source": [
        "# Example: Converting strings to uppercase\n",
        "words = [\"hello\", \"world\", \"python\"]\n",
        "uppercase = map(str.upper, words)\n",
        "print(list(uppercase))  # Output: ['HELLO', 'WORLD', 'PYTHON']\n"
      ],
      "metadata": {
        "colab": {
          "base_uri": "https://localhost:8080/"
        },
        "id": "5dJQPR3FOhcM",
        "outputId": "e0d26db3-63c6-46df-c8db-92862ece0b51"
      },
      "execution_count": 13,
      "outputs": [
        {
          "output_type": "stream",
          "name": "stdout",
          "text": [
            "['HELLO', 'WORLD', 'PYTHON']\n"
          ]
        }
      ]
    },
    {
      "cell_type": "code",
      "source": [
        "# Example: Adding elements from two lists\n",
        "list1 = [1, 2, 3]\n",
        "list2 = [4, 5, 6]\n",
        "sums = map(lambda x, y: x + y, list1, list2)\n",
        "print(list(sums))  # Output: [5, 7, 9]\n"
      ],
      "metadata": {
        "colab": {
          "base_uri": "https://localhost:8080/"
        },
        "id": "97QFv9vdOwiE",
        "outputId": "550b3078-af51-49a1-8e2f-2b94863b99e3"
      },
      "execution_count": 14,
      "outputs": [
        {
          "output_type": "stream",
          "name": "stdout",
          "text": [
            "[5, 7, 9]\n"
          ]
        }
      ]
    },
    {
      "cell_type": "code",
      "source": [
        "# Example: Finding the square of each number in a list\n",
        "def square(x):\n",
        "    return x * x\n",
        "\n",
        "numbers = [1, 2, 3, 4]\n",
        "squared = map(square, numbers)\n",
        "print(list(squared))  # Output: [1, 4, 9, 16]\n"
      ],
      "metadata": {
        "colab": {
          "base_uri": "https://localhost:8080/"
        },
        "id": "1j0A-2vjO6gB",
        "outputId": "cbad006a-5048-472c-f9c9-8bbc6d2979e5"
      },
      "execution_count": 15,
      "outputs": [
        {
          "output_type": "stream",
          "name": "stdout",
          "text": [
            "[1, 4, 9, 16]\n"
          ]
        }
      ]
    },
    {
      "cell_type": "markdown",
      "source": [
        "**The filter function** in Python is a built-in function that filters elements from an iterable (like a list or tuple) based on whether they satisfy a given condition. It evaluates each element of the iterable against a function that returns True or False. Only the elements for which the function returns True are included in the output.\n",
        "\n",
        "```\n",
        "# filter(function, iterable)\n",
        "```\n",
        "\n",
        "* function: A function that evaluates each element. It should return True or False. If None is passed, the identity function (bool(x)) is used.\n",
        "\n",
        "* iterable: The sequence (like a list, tuple, or string) that you want to filter.\n",
        "\n",
        "* The filter function returns an iterator, so you need to convert it (e.g., to a list or tuple) to see the filtered results."
      ],
      "metadata": {
        "id": "8cE2lbTVPjF_"
      }
    },
    {
      "cell_type": "code",
      "source": [
        "# A function to check if a number is even\n",
        "def is_even(n):\n",
        "    return n % 2 == 0\n",
        "\n",
        "# List of numbers\n",
        "numbers = [1, 2, 3, 4, 5, 6]\n",
        "\n",
        "# Using filter to find even numbers\n",
        "even_numbers = filter(is_even, numbers)\n",
        "print(list(even_numbers))  # Output: [2, 4, 6]\n"
      ],
      "metadata": {
        "colab": {
          "base_uri": "https://localhost:8080/"
        },
        "id": "892l9SD-P8Hz",
        "outputId": "3945bf4b-30be-4e98-e3f7-817a411cec92"
      },
      "execution_count": 16,
      "outputs": [
        {
          "output_type": "stream",
          "name": "stdout",
          "text": [
            "[2, 4, 6]\n"
          ]
        }
      ]
    },
    {
      "cell_type": "code",
      "source": [
        "# Filter odd numbers using a lambda function\n",
        "numbers = [1, 2, 3, 4, 5, 6]\n",
        "odd_numbers = filter(lambda x: x % 2 != 0, numbers)\n",
        "print(list(odd_numbers))  # Output: [1, 3, 5]\n"
      ],
      "metadata": {
        "colab": {
          "base_uri": "https://localhost:8080/"
        },
        "id": "NNWQf6RvQLmG",
        "outputId": "345783cf-9084-4500-ac39-4510675674ab"
      },
      "execution_count": 17,
      "outputs": [
        {
          "output_type": "stream",
          "name": "stdout",
          "text": [
            "[1, 3, 5]\n"
          ]
        }
      ]
    },
    {
      "cell_type": "code",
      "source": [
        "# Filter strings that contain the letter 'a'\n",
        "words = ['apple', 'banana', 'cherry', 'date', 'kiwi']\n",
        "contains_a = filter(lambda word: 'a' in word, words)\n",
        "print(list(contains_a))  # Output: ['apple', 'banana', 'date']\n"
      ],
      "metadata": {
        "colab": {
          "base_uri": "https://localhost:8080/"
        },
        "id": "V8WCijF_QUM7",
        "outputId": "62b04e49-00af-4665-b9d2-ccc1c74ba92d"
      },
      "execution_count": 18,
      "outputs": [
        {
          "output_type": "stream",
          "name": "stdout",
          "text": [
            "['apple', 'banana', 'date']\n"
          ]
        }
      ]
    },
    {
      "cell_type": "code",
      "source": [
        "# Remove zeros from a list\n",
        "numbers = [0, 1, 2, 0, 3, 4, 0]\n",
        "non_zeros = filter(None, numbers)  # None acts as the identity function here\n",
        "print(list(non_zeros))  # Output: [1, 2, 3, 4]\n"
      ],
      "metadata": {
        "colab": {
          "base_uri": "https://localhost:8080/"
        },
        "id": "ZgTVVf-KQx_K",
        "outputId": "185571ce-2141-49b2-e549-b9255d71bd60"
      },
      "execution_count": 19,
      "outputs": [
        {
          "output_type": "stream",
          "name": "stdout",
          "text": [
            "[1, 2, 3, 4]\n"
          ]
        }
      ]
    },
    {
      "cell_type": "code",
      "source": [
        "# Filter and square even numbers\n",
        "numbers = [1, 2, 3, 4, 5, 6]\n",
        "squared_evens = [x ** 2 for x in numbers if x % 2 == 0]\n",
        "print(squared_evens)  # Output: [4, 16, 36]\n"
      ],
      "metadata": {
        "colab": {
          "base_uri": "https://localhost:8080/"
        },
        "id": "FAH2no8LReWv",
        "outputId": "6b545c2b-51f1-4050-e7f0-b13cabe819ee"
      },
      "execution_count": 20,
      "outputs": [
        {
          "output_type": "stream",
          "name": "stdout",
          "text": [
            "[4, 16, 36]\n"
          ]
        }
      ]
    },
    {
      "cell_type": "code",
      "source": [
        "# Using filter + map to filter and transform\n",
        "numbers = [1, 2, 3, 4, 5, 6]\n",
        "squared_evens = map(lambda x: x ** 2, filter(lambda x: x % 2 == 0, numbers))\n",
        "print(list(squared_evens))  # Output: [4, 16, 36]\n"
      ],
      "metadata": {
        "colab": {
          "base_uri": "https://localhost:8080/"
        },
        "id": "2yYB2F9FRyes",
        "outputId": "5975f7ed-c758-46ff-fbdb-9f11a36379f3"
      },
      "execution_count": 21,
      "outputs": [
        {
          "output_type": "stream",
          "name": "stdout",
          "text": [
            "[4, 16, 36]\n"
          ]
        }
      ]
    }
  ]
}